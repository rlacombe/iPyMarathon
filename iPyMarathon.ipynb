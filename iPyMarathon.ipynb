{
 "metadata": {
  "name": "iPyMarathon"
 },
 "nbformat": 3,
 "nbformat_minor": 0,
 "worksheets": [
  {
   "cells": [
    {
     "cell_type": "markdown",
     "metadata": {},
     "source": "This notebook computes your Maximum Hear Rate and your Hear Rate Zones for marathon training.\n\nStart by inputing your age.\n"
    },
    {
     "cell_type": "code",
     "collapsed": false,
     "input": "age = 29",
     "language": "python",
     "metadata": {
      "slideshow": {
       "slide_type": "fragment"
      }
     },
     "outputs": [],
     "prompt_number": 1
    },
    {
     "cell_type": "heading",
     "level": 2,
     "metadata": {},
     "source": "Maximum Heart Frequency"
    },
    {
     "cell_type": "markdown",
     "metadata": {},
     "source": "The following section computes the Maximum Heart Frequency using various scientific methods.\n\nSources:\n\n- http://www.sportnat.com/100km/cardio/Definir-FCM.html\n- http://www.brianmac.co.uk/maxhr.htm\n"
    },
    {
     "cell_type": "code",
     "collapsed": false,
     "input": "def MHR_AstrandRyhming(age):\n    return (220.0 - age)\n\ndef MHR_Inbar(age):\n    return (205.8 - (0.685*age))\n\ndef MHR_RobersLanwher(age):\n    return (208.754 - (0.734 * age))\n\ndef MHR_Miller(age):\n    return (217 - (0.85 * age))\n\ndef MHR_average(age):\n    return (MHR_AstrandRyhming(age) \n            + MHR_Inbar(age) \n            + MHR_RobersLanwher(age)\n            + MHR_Miller(age))/4\n\nMHR = MHR_average(age)\n\nprint \"Maximum Heart Frequency\\n=======================\\n\"\nprint \"Astrand & Ryhming: \"+str(MHR_AstrandRyhming(age))\nprint \"Inbar (1994): \"+str(MHR_Inbar(age))\nprint \"Robers & Lanwher (2002): \"+str(MHR_RobersLanwher(age))\nprint \"Miller: \"+str(MHR_Miller(age))\nprint \"\\nAverage: \"+str(MHR_average(age))\nprint \"\\nWorking MHR: \"+str(int(MHR))",
     "language": "python",
     "metadata": {},
     "outputs": [
      {
       "output_type": "stream",
       "stream": "stdout",
       "text": "Maximum Heart Frequency\n=======================\n\nAstrand & Ryhming: 191.0\nInbar (1994): 185.935\nRobers & Lanwher (2002): 187.468\nMiller: 192.35\n\nAverage: 189.18825\n\nWorking MHR: 189\n"
      }
     ],
     "prompt_number": 2
    },
    {
     "cell_type": "heading",
     "level": 2,
     "metadata": {},
     "source": "Heart Rate Zones"
    },
    {
     "cell_type": "markdown",
     "metadata": {},
     "source": "The following section computes training Heart Rate Zones.\n\nSources: \n\n- http://www.3-fitness.com/tarticles/zones.htm"
    },
    {
     "cell_type": "code",
     "collapsed": false,
     "input": "print \"Heart Rate Zones\\n================\\n\"\nprint \"Endurance (70%): \"+str(int(.7 * MHR))\nprint \"Tempo (75% to 78%): \"+str(int(.75 * MHR))+\" to \"+str(int(.78 * MHR))\nprint \"Race Pace (80%): \"+str(int(.8 * MHR))\nprint \"Threshold (85%): \"+str(int(.85 * MHR))\nprint \"Superthreshold (90%): \"+str(int(.9 * MHR))\nprint \"Speed (95%): \"+str(int(.95 * MHR))\n",
     "language": "python",
     "metadata": {
      "slideshow": {
       "slide_type": "skip"
      }
     },
     "outputs": [
      {
       "output_type": "stream",
       "stream": "stdout",
       "text": "Heart Rate Zones\n================\n\nEndurance (70%): 132\nTempo (75% to 78%): 141 to 147\nRace Pace (80%): 151\nThreshold (85%): 160\nSuperthreshold (90%): 170\nSpeed (95%): 179\n"
      }
     ],
     "prompt_number": 3
    }
   ],
   "metadata": {}
  }
 ]
}